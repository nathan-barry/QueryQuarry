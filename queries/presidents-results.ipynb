{
 "cells": [
  {
   "cell_type": "code",
   "execution_count": 1,
   "metadata": {},
   "outputs": [],
   "source": [
    "import pandas as pd"
   ]
  },
  {
   "cell_type": "code",
   "execution_count": 2,
   "metadata": {},
   "outputs": [],
   "source": [
    "# Load in CSV\n",
    "df = pd.read_csv(\"presidents-results.csv\")"
   ]
  },
  {
   "cell_type": "code",
   "execution_count": 3,
   "metadata": {},
   "outputs": [
    {
     "data": {
      "text/html": [
       "<div>\n",
       "<style scoped>\n",
       "    .dataframe tbody tr th:only-of-type {\n",
       "        vertical-align: middle;\n",
       "    }\n",
       "\n",
       "    .dataframe tbody tr th {\n",
       "        vertical-align: top;\n",
       "    }\n",
       "\n",
       "    .dataframe thead th {\n",
       "        text-align: right;\n",
       "    }\n",
       "</style>\n",
       "<table border=\"1\" class=\"dataframe\">\n",
       "  <thead>\n",
       "    <tr style=\"text-align: right;\">\n",
       "      <th></th>\n",
       "      <th>queryID</th>\n",
       "      <th>query</th>\n",
       "      <th>docID</th>\n",
       "      <th>document</th>\n",
       "    </tr>\n",
       "  </thead>\n",
       "  <tbody>\n",
       "    <tr>\n",
       "      <th>0</th>\n",
       "      <td>0</td>\n",
       "      <td>George Washington</td>\n",
       "      <td>75462</td>\n",
       "      <td>_START_ARTICLE_Presidents of the United States...</td>\n",
       "    </tr>\n",
       "    <tr>\n",
       "      <th>1</th>\n",
       "      <td>0</td>\n",
       "      <td>George Washington</td>\n",
       "      <td>7346</td>\n",
       "      <td>_START_ARTICLE_John Gano_START_PARAGRAPH_John ...</td>\n",
       "    </tr>\n",
       "    <tr>\n",
       "      <th>2</th>\n",
       "      <td>0</td>\n",
       "      <td>George Washington</td>\n",
       "      <td>121409</td>\n",
       "      <td>_START_ARTICLE_Joseph Ellis_START_SECTION_Back...</td>\n",
       "    </tr>\n",
       "    <tr>\n",
       "      <th>3</th>\n",
       "      <td>0</td>\n",
       "      <td>George Washington</td>\n",
       "      <td>94262</td>\n",
       "      <td>_START_ARTICLE_Gabriel Long_START_SECTION_Earl...</td>\n",
       "    </tr>\n",
       "    <tr>\n",
       "      <th>4</th>\n",
       "      <td>0</td>\n",
       "      <td>George Washington</td>\n",
       "      <td>9213</td>\n",
       "      <td>_START_ARTICLE_Alley Pond Park_START_SECTION_G...</td>\n",
       "    </tr>\n",
       "    <tr>\n",
       "      <th>...</th>\n",
       "      <td>...</td>\n",
       "      <td>...</td>\n",
       "      <td>...</td>\n",
       "      <td>...</td>\n",
       "    </tr>\n",
       "    <tr>\n",
       "      <th>1495</th>\n",
       "      <td>6</td>\n",
       "      <td>Andrew Jackson</td>\n",
       "      <td>74310</td>\n",
       "      <td>_START_ARTICLE_47th New York State Legislature...</td>\n",
       "    </tr>\n",
       "    <tr>\n",
       "      <th>1496</th>\n",
       "      <td>6</td>\n",
       "      <td>Andrew Jackson</td>\n",
       "      <td>156605</td>\n",
       "      <td>_START_ARTICLE_French Americans_START_SECTION_...</td>\n",
       "    </tr>\n",
       "    <tr>\n",
       "      <th>1497</th>\n",
       "      <td>6</td>\n",
       "      <td>Andrew Jackson</td>\n",
       "      <td>120862</td>\n",
       "      <td>_START_ARTICLE_Tallahassee, Florida_START_SECT...</td>\n",
       "    </tr>\n",
       "    <tr>\n",
       "      <th>1498</th>\n",
       "      <td>6</td>\n",
       "      <td>Andrew Jackson</td>\n",
       "      <td>160314</td>\n",
       "      <td>_START_ARTICLE_State Dining Room of the White ...</td>\n",
       "    </tr>\n",
       "    <tr>\n",
       "      <th>1499</th>\n",
       "      <td>6</td>\n",
       "      <td>Andrew Jackson</td>\n",
       "      <td>104822</td>\n",
       "      <td>_START_ARTICLE_Five Civilized Tribes_START_PAR...</td>\n",
       "    </tr>\n",
       "  </tbody>\n",
       "</table>\n",
       "<p>1500 rows × 4 columns</p>\n",
       "</div>"
      ],
      "text/plain": [
       "      queryID              query   docID  \\\n",
       "0           0  George Washington   75462   \n",
       "1           0  George Washington    7346   \n",
       "2           0  George Washington  121409   \n",
       "3           0  George Washington   94262   \n",
       "4           0  George Washington    9213   \n",
       "...       ...                ...     ...   \n",
       "1495        6     Andrew Jackson   74310   \n",
       "1496        6     Andrew Jackson  156605   \n",
       "1497        6     Andrew Jackson  120862   \n",
       "1498        6     Andrew Jackson  160314   \n",
       "1499        6     Andrew Jackson  104822   \n",
       "\n",
       "                                               document  \n",
       "0     _START_ARTICLE_Presidents of the United States...  \n",
       "1     _START_ARTICLE_John Gano_START_PARAGRAPH_John ...  \n",
       "2     _START_ARTICLE_Joseph Ellis_START_SECTION_Back...  \n",
       "3     _START_ARTICLE_Gabriel Long_START_SECTION_Earl...  \n",
       "4     _START_ARTICLE_Alley Pond Park_START_SECTION_G...  \n",
       "...                                                 ...  \n",
       "1495  _START_ARTICLE_47th New York State Legislature...  \n",
       "1496  _START_ARTICLE_French Americans_START_SECTION_...  \n",
       "1497  _START_ARTICLE_Tallahassee, Florida_START_SECT...  \n",
       "1498  _START_ARTICLE_State Dining Room of the White ...  \n",
       "1499  _START_ARTICLE_Five Civilized Tribes_START_PAR...  \n",
       "\n",
       "[1500 rows x 4 columns]"
      ]
     },
     "execution_count": 3,
     "metadata": {},
     "output_type": "execute_result"
    }
   ],
   "source": [
    "# Show CSV\n",
    "df"
   ]
  },
  {
   "cell_type": "code",
   "execution_count": 4,
   "metadata": {},
   "outputs": [
    {
     "data": {
      "text/plain": [
       "'_START_ARTICLE_Presidents of the United States on U.S. postage stamps_START_PARAGRAPH_Presidents of the United States have frequently appeared on U.S. postage stamps since the mid–1800s. The United States Post Office Department released its first two postage stamps in 1847, featuring George Washington on one, and Benjamin Franklin on the other. The advent of presidents on postage stamps has been definitive to U.S. postage stamp design since the first issues were released and set the precedent that U.S. stamp designs would follow for many generations._NEWLINE_The paper postage stamp itself was born of utility (in England, 1840), as something simple and easy to use was needed to confirm that postage had been paid for an item of mail. People could purchase several stamps at one time and no longer had to make a special trip to pay for postage each time an item was mailed. The postage stamp design was usually printed from a fine engraving and were almost impossible to forge adequately. This is where the appearance of presidents on stamps was introduced. Moreover, the subject theme of a president, along with the honors associated with it, is what began to define the stamp issues in ways that took it beyond the physical postage stamp itself and is why people began to collect them. There exist entire series of stamp issues whose printing was inspired by the subject alone._NEWLINE_The portrayals of Washington and Franklin on U.S. postage are among the most definitive of examples and have appeared on numerous postage stamps. The presidential theme in stamp designs would continue as the decades passed, each period issuing stamps with variations of the same basic presidential-portrait design theme. The portrayals of U.S. presidents on U.S. postage has remained a significant subject and design theme on definitive postage throughout most of U.S. stamp issuance history._NEWLINE_Engraved portrayals of U.S. presidents were the only designs found on U.S. postage from 1847 until 1869, with the one exception of Benjamin Franklin, whose historical stature was comparable to that of a president, although his appearance was also an acknowledgement of his role as the first U. S. Postmaster General. During this period, the U.S. Post Office issued various postage stamps bearing the depictions of George Washington foremost, Benjamin Franklin, Thomas Jefferson, Andrew Jackson, and Abraham Lincoln, the last of whom first appeared in 1866, one year after his death. After twenty-two years of issuing stamps with only presidents and Franklin, the Post Office in 1869 issued a series of eleven postage stamps that were generally regarded by the American public as being abruptly different from the previous issues and whose designs were considered at the time to be a break from the tradition of honoring American forefathers on the nation\\'s postage stamps. These new issues had other nonpresidential subjects and a design style that was also different, one issue bearing a horse, another a locomotive, while others were depicted with nonpresidential themes. Washington and Lincoln were to be found only once in this series of eleven stamps, which some considered to be below par in design and image quality. As a result, this pictographic series was met with general disdain and proved so unpopular that the issues were consequently sold for only one year where remaining stocks were pulled from post offices across the United States._NEWLINE_In 1870 the Post Office resumed its tradition of printing postage stamps with the portraits of American Presidents and Franklin but now added several other famous Americans, including Henry Clay, Daniel Webster, Alexander Hamilton and General Winfield Scott among other notable Americans. Indeed, the balance had now shifted somewhat; of the ten stamps issued in 1870, only four offered presidential images. Moreover, presidents also appeared on less than half of the denominations in the definitive sets of 1890, 1917, 1954 and 1965, while occupying only a slight majority of values in the definitive issues of 1894–98, 1902 and 1922–25._NEWLINE_Presidential images did, however, overwhelmingly dominate the definitive sets released in 1908 and 1938: on the former, 10 of the 11 stamps offered the same image of Washington, while in the 1938 \"prexies\" series, 29 of the 32 stamps presented busts of presidents. The 1975 Americana Series marked a clear end to this tradition, being the first U.S. definitive issue on which no presidential portrait appeared; and presidents played only a minor role in the subsequent Great Americans series._NEWLINE_Every U.S. president who was deceased as of 2016 has appeared on at least one U.S. postage stamp, and all but Richard Nixon and Gerald Ford have appeared on at least two. A stamp honoring George H. W. Bush, who died November 30, 2018, was released and first issued on June 12, 2019._START_SECTION_George Washington_START_PARAGRAPH_George Washington (February 22, 1732 – December 14, 1799) was the first President of the United States, serving from 1789 to 1797, and before this, served as the commander of the Continental Army in the American Revolutionary War from 1775 to 1783. The Electoral College elected Washington unanimously in 1789, and again in the 1792 election; To this day George Washington remains the only American president to have received 100 percent of the electoral votes. Washington took his oath of office while standing on the balcony of Federal Hall on Wall Street in New York City._NEWLINE_The chronology of presidents on U.S. postage begins with George Washington. Near the end of Washington\\'s second term as president, Martha Washington commissioned the well-known portrait artist Gilbert Stuart to paint both her portrait and the president\\'s. Stuart was known for the length of time it took him to complete a painting, and consequently neither the president nor his wife ever saw the finished paintings. The two portraits remained unfinished and tacked to a door in Stuart\\'s Boston studio until his death in 1828. In 1860, artist Rembrandt Peale finished Stuart\\'s work, filling in where this artist had left off. Stuart\\'s portrait of Washington became the model image for a good number of postage issues of the 19th and 20th centuries._NEWLINE_George Washington remains the central figure found on U.S. postage. The first president appears on the face of U.S. postage more than any other president. The engraved images of Washington found on the early issues set the precedent that all U.S. postage issues would follow in the following decades. Indeed, in virtually every U.S. definitive stamp series offered between 1851 and 1932, Washington appeared on the normal letter-rate value (the only exception being the short-lived 1869 pictorial issue); other presidents, statesmen and famous Americans were confined to the less commonly used denominations. Since the first U.S. postage stamp was issued by the U.S. Post Office, there have been more examples of George Washington appearing on U.S. postage than all other American presidents combined, including Thomas Jefferson, Andrew Jackson, Abraham Lincoln and even the frequently honored Benjamin Franklin (who was not president). Examples of all the various Washington stamps are too numerous to include in this section, as many of the issues are very similar with only differences in color and denomination, such as the Washington–Franklin issues. Featured below are the issues that are unique in their designs and the most definitive._START_SECTION_Pre-history_START_PARAGRAPH_When the U.S. Post Office issued its 10-cent Washington value of 1847 as part of the first U.S. national postage stamp release, Washington\\'s image had already been appearing for five years on postage stamps printed in the U.S. by private letter-carrying services and by local postmasters. Indeed, the first postage stamp ever produced in the Western Hemisphere was a 3-cent issue bearing a somewhat crude engraving of Washington, introduced in 1842 by the City Despatch Post in New York City. _NEWLINE_ In 1845, the New York Postmaster issued a provisional stamp for local use which offered a far more elegant image of Washington, engraved by the firm of Rawdon, Wright and Hatch (the same company that, two years later, would produce the first National U.S. postage stamps). That year, Washington also appeared on a very rare 5-cent provisional issue offered by the post office in Millbury Massachusetts. Washington was the only president depicted on any of the postmasters\\' provisionals released during this period._START_SECTION_Washington\\'s 200th anniversary_START_PARAGRAPH_On January 1, 1932, in celebration of George Washington\\'s 200th anniversary of birth, the U.S. Post Office released its Washington Bicentennial Issue, a series of twelve postage stamps each with a different portrait of Washington. Each engraved portrayal was modeled from a different painting by an early American artist and the images present Washington at different periods in his life. Engravings of Washington often depict his profile. In the 1932 Bicentennial anniversary series there are two issues that show Washington in profile, one facing left, the other facing right. Information regarding quantities issued can be found on the Washington Bicentennial Issue page._NEWLINE_The Washington Bicentennial issues of 1932 are the first commemorative postage stamps ever issued by the Post Office that honor and depict George Washington by himself, and not in conjunction with other people, places, or events as is the case with the three commemoratives with Washington\\'s image issued before 1932. There were 4.2 billion copies produced of the 2-cent Washington value in this series, a total that remains the largest stamp printing of a single issue ever to occur in U.S. postal history._START_SECTION_AMERIPEX issues of 1986_START_PARAGRAPH_On May 22, 1986, the Postal Service released a series of postage stamps with a portrait of a past U.S. President inscribed upon each one. The series of 36 stamps were issued in a set of four separate mini-sheets, with nine stamps to the sheet, each stamp having a denomination of 22 cents. All of the presidents who were deceased at the time were included (the first 35 men who served as president, through Lyndon Johnson), and several of the issues honor presidents who had never appeared on a U.S. commemorative stamp before. On \\'sheet IV\\' the stamp in the middle depicts the White House entrance.'"
      ]
     },
     "execution_count": 4,
     "metadata": {},
     "output_type": "execute_result"
    }
   ],
   "source": [
    "# Show the first document from the first query\n",
    "df.iloc[0].document"
   ]
  }
 ],
 "metadata": {
  "kernelspec": {
   "display_name": "Python 3 (ipykernel)",
   "language": "python",
   "name": "python3"
  },
  "language_info": {
   "codemirror_mode": {
    "name": "ipython",
    "version": 3
   },
   "file_extension": ".py",
   "mimetype": "text/x-python",
   "name": "python",
   "nbconvert_exporter": "python",
   "pygments_lexer": "ipython3",
   "version": "3.10.12"
  }
 },
 "nbformat": 4,
 "nbformat_minor": 4
}
